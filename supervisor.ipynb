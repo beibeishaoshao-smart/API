{
 "cells": [
  {
   "cell_type": "code",
   "execution_count": 1,
   "id": "fd6cbb10",
   "metadata": {},
   "outputs": [
    {
     "name": "stdout",
     "output_type": "stream",
     "text": [
      "{'supervisor': {'messages': [HumanMessage(content='book a flight from BOS to JFK and a stay at McKittrick Hotel', additional_kwargs={}, response_metadata={}, id='c94b56eb-436d-4ef3-a2fa-4a4dec961b34'), AIMessage(content='', additional_kwargs={'tool_calls': [{'id': 'call_XIENYUSnDvTGAJiil57JDImG', 'function': {'arguments': '{}', 'name': 'transfer_to_flight_assistant'}, 'type': 'function'}], 'refusal': None}, response_metadata={'token_usage': {'completion_tokens': 14, 'prompt_tokens': 100, 'total_tokens': 114, 'completion_tokens_details': {'accepted_prediction_tokens': 0, 'audio_tokens': 0, 'reasoning_tokens': 0, 'rejected_prediction_tokens': 0}, 'prompt_tokens_details': {'audio_tokens': 0, 'cached_tokens': 0}}, 'model_name': 'gpt-4o-2024-08-06', 'system_fingerprint': 'fp_07871e2ad8', 'id': 'chatcmpl-Bea6en581nqp4PPykoowA6LaLQaVb', 'service_tier': 'default', 'finish_reason': 'tool_calls', 'logprobs': None}, name='supervisor', id='run--1334074b-eed4-469b-b849-17df51d6faf2-0', tool_calls=[{'name': 'transfer_to_flight_assistant', 'args': {}, 'id': 'call_XIENYUSnDvTGAJiil57JDImG', 'type': 'tool_call'}], usage_metadata={'input_tokens': 100, 'output_tokens': 14, 'total_tokens': 114, 'input_token_details': {'audio': 0, 'cache_read': 0}, 'output_token_details': {'audio': 0, 'reasoning': 0}}), ToolMessage(content='Successfully transferred to flight_assistant', name='transfer_to_flight_assistant', id='104b9f4c-f0f1-4f1e-8063-20cc067dbb67', tool_call_id='call_XIENYUSnDvTGAJiil57JDImG')]}}\n",
      "\n",
      "\n",
      "{'flight_assistant': {'messages': [AIMessage(content=\"I've successfully booked your flight from Boston Logan International Airport (BOS) to John F. Kennedy International Airport (JFK). \\n\\nHowever, I'm unable to book accommodations such as a stay at the McKittrick Hotel. You may want to contact the hotel directly or use a hotel booking platform for your reservation. Let me know if there's anything else I can assist you with!\", additional_kwargs={'refusal': None}, response_metadata={'token_usage': {'completion_tokens': 77, 'prompt_tokens': 155, 'total_tokens': 232, 'completion_tokens_details': {'accepted_prediction_tokens': 0, 'audio_tokens': 0, 'reasoning_tokens': 0, 'rejected_prediction_tokens': 0}, 'prompt_tokens_details': {'audio_tokens': 0, 'cached_tokens': 0}}, 'model_name': 'gpt-4o-2024-08-06', 'system_fingerprint': 'fp_07871e2ad8', 'id': 'chatcmpl-Bea6g8EKk5XHqga7R9iLc6D3f3s4o', 'service_tier': 'default', 'finish_reason': 'stop', 'logprobs': None}, name='flight_assistant', id='run--f95c95d2-01ce-40d4-b636-1a598336a76a-0', usage_metadata={'input_tokens': 155, 'output_tokens': 77, 'total_tokens': 232, 'input_token_details': {'audio': 0, 'cache_read': 0}, 'output_token_details': {'audio': 0, 'reasoning': 0}}), AIMessage(content='Transferring back to supervisor', additional_kwargs={}, response_metadata={'__is_handoff_back': True}, name='flight_assistant', id='6a29fe2c-9f7d-4510-875c-b13d72996e5d', tool_calls=[{'name': 'transfer_back_to_supervisor', 'args': {}, 'id': '726b56c6-29a0-4b1f-8889-b5576f0b3b04', 'type': 'tool_call'}]), ToolMessage(content='Successfully transferred back to supervisor', name='transfer_back_to_supervisor', id='8faa9f58-61b5-41ff-9e49-028920d2a747', tool_call_id='726b56c6-29a0-4b1f-8889-b5576f0b3b04')]}}\n",
      "\n",
      "\n",
      "{'supervisor': {'messages': [HumanMessage(content='book a flight from BOS to JFK and a stay at McKittrick Hotel', additional_kwargs={}, response_metadata={}, id='c94b56eb-436d-4ef3-a2fa-4a4dec961b34'), AIMessage(content='', additional_kwargs={'tool_calls': [{'id': 'call_XIENYUSnDvTGAJiil57JDImG', 'function': {'arguments': '{}', 'name': 'transfer_to_flight_assistant'}, 'type': 'function'}], 'refusal': None}, response_metadata={'token_usage': {'completion_tokens': 14, 'prompt_tokens': 100, 'total_tokens': 114, 'completion_tokens_details': {'accepted_prediction_tokens': 0, 'audio_tokens': 0, 'reasoning_tokens': 0, 'rejected_prediction_tokens': 0}, 'prompt_tokens_details': {'audio_tokens': 0, 'cached_tokens': 0}}, 'model_name': 'gpt-4o-2024-08-06', 'system_fingerprint': 'fp_07871e2ad8', 'id': 'chatcmpl-Bea6en581nqp4PPykoowA6LaLQaVb', 'service_tier': 'default', 'finish_reason': 'tool_calls', 'logprobs': None}, name='supervisor', id='run--1334074b-eed4-469b-b849-17df51d6faf2-0', tool_calls=[{'name': 'transfer_to_flight_assistant', 'args': {}, 'id': 'call_XIENYUSnDvTGAJiil57JDImG', 'type': 'tool_call'}], usage_metadata={'input_tokens': 100, 'output_tokens': 14, 'total_tokens': 114, 'input_token_details': {'audio': 0, 'cache_read': 0}, 'output_token_details': {'audio': 0, 'reasoning': 0}}), ToolMessage(content='Successfully transferred to flight_assistant', name='transfer_to_flight_assistant', id='104b9f4c-f0f1-4f1e-8063-20cc067dbb67', tool_call_id='call_XIENYUSnDvTGAJiil57JDImG'), AIMessage(content=\"I've successfully booked your flight from Boston Logan International Airport (BOS) to John F. Kennedy International Airport (JFK). \\n\\nHowever, I'm unable to book accommodations such as a stay at the McKittrick Hotel. You may want to contact the hotel directly or use a hotel booking platform for your reservation. Let me know if there's anything else I can assist you with!\", additional_kwargs={'refusal': None}, response_metadata={'token_usage': {'completion_tokens': 77, 'prompt_tokens': 155, 'total_tokens': 232, 'completion_tokens_details': {'accepted_prediction_tokens': 0, 'audio_tokens': 0, 'reasoning_tokens': 0, 'rejected_prediction_tokens': 0}, 'prompt_tokens_details': {'audio_tokens': 0, 'cached_tokens': 0}}, 'model_name': 'gpt-4o-2024-08-06', 'system_fingerprint': 'fp_07871e2ad8', 'id': 'chatcmpl-Bea6g8EKk5XHqga7R9iLc6D3f3s4o', 'service_tier': 'default', 'finish_reason': 'stop', 'logprobs': None}, name='flight_assistant', id='run--f95c95d2-01ce-40d4-b636-1a598336a76a-0', usage_metadata={'input_tokens': 155, 'output_tokens': 77, 'total_tokens': 232, 'input_token_details': {'audio': 0, 'cache_read': 0}, 'output_token_details': {'audio': 0, 'reasoning': 0}}), AIMessage(content='Transferring back to supervisor', additional_kwargs={}, response_metadata={'__is_handoff_back': True}, name='flight_assistant', id='6a29fe2c-9f7d-4510-875c-b13d72996e5d', tool_calls=[{'name': 'transfer_back_to_supervisor', 'args': {}, 'id': '726b56c6-29a0-4b1f-8889-b5576f0b3b04', 'type': 'tool_call'}]), ToolMessage(content='Successfully transferred back to supervisor', name='transfer_back_to_supervisor', id='8faa9f58-61b5-41ff-9e49-028920d2a747', tool_call_id='726b56c6-29a0-4b1f-8889-b5576f0b3b04'), AIMessage(content='', additional_kwargs={'tool_calls': [{'id': 'call_X0RGqCWpC3Rz1IJiqLiDgfG0', 'function': {'arguments': '{}', 'name': 'transfer_to_hotel_assistant'}, 'type': 'function'}], 'refusal': None}, response_metadata={'token_usage': {'completion_tokens': 14, 'prompt_tokens': 266, 'total_tokens': 280, 'completion_tokens_details': {'accepted_prediction_tokens': 0, 'audio_tokens': 0, 'reasoning_tokens': 0, 'rejected_prediction_tokens': 0}, 'prompt_tokens_details': {'audio_tokens': 0, 'cached_tokens': 0}}, 'model_name': 'gpt-4o-2024-08-06', 'system_fingerprint': 'fp_a288987b44', 'id': 'chatcmpl-Bea6imPd8Vp33gHNluRnFFpP1ZMpu', 'service_tier': 'default', 'finish_reason': 'tool_calls', 'logprobs': None}, name='supervisor', id='run--14426029-326f-4c86-826a-ddaff60b7cfb-0', tool_calls=[{'name': 'transfer_to_hotel_assistant', 'args': {}, 'id': 'call_X0RGqCWpC3Rz1IJiqLiDgfG0', 'type': 'tool_call'}], usage_metadata={'input_tokens': 266, 'output_tokens': 14, 'total_tokens': 280, 'input_token_details': {'audio': 0, 'cache_read': 0}, 'output_token_details': {'audio': 0, 'reasoning': 0}}), ToolMessage(content='Successfully transferred to hotel_assistant', name='transfer_to_hotel_assistant', id='e099eef3-e10e-4b34-89a2-94f7bb278378', tool_call_id='call_X0RGqCWpC3Rz1IJiqLiDgfG0')]}}\n",
      "\n",
      "\n",
      "{'hotel_assistant': {'messages': [AIMessage(content='Your stay at the McKittrick Hotel has been successfully booked! If you need any further assistance, feel free to ask.', additional_kwargs={'refusal': None}, response_metadata={'token_usage': {'completion_tokens': 27, 'prompt_tokens': 311, 'total_tokens': 338, 'completion_tokens_details': {'accepted_prediction_tokens': 0, 'audio_tokens': 0, 'reasoning_tokens': 0, 'rejected_prediction_tokens': 0}, 'prompt_tokens_details': {'audio_tokens': 0, 'cached_tokens': 0}}, 'model_name': 'gpt-4o-2024-08-06', 'system_fingerprint': 'fp_a288987b44', 'id': 'chatcmpl-Bea6jC6ejWQip4jlTZ5FR0hHCFe4R', 'service_tier': 'default', 'finish_reason': 'stop', 'logprobs': None}, name='hotel_assistant', id='run--8e5a7070-b40d-4dec-943b-4d0d5994c7b3-0', usage_metadata={'input_tokens': 311, 'output_tokens': 27, 'total_tokens': 338, 'input_token_details': {'audio': 0, 'cache_read': 0}, 'output_token_details': {'audio': 0, 'reasoning': 0}}), AIMessage(content='Transferring back to supervisor', additional_kwargs={}, response_metadata={'__is_handoff_back': True}, name='hotel_assistant', id='33eb8cce-d998-4b05-b748-a0693bc0fb6b', tool_calls=[{'name': 'transfer_back_to_supervisor', 'args': {}, 'id': '4b15072b-4767-4e61-b4d9-e181cffbe182', 'type': 'tool_call'}]), ToolMessage(content='Successfully transferred back to supervisor', name='transfer_back_to_supervisor', id='df08a01e-a720-49ea-bbd6-bed697b486f5', tool_call_id='4b15072b-4767-4e61-b4d9-e181cffbe182')]}}\n",
      "\n",
      "\n",
      "{'supervisor': {'messages': [HumanMessage(content='book a flight from BOS to JFK and a stay at McKittrick Hotel', additional_kwargs={}, response_metadata={}, id='c94b56eb-436d-4ef3-a2fa-4a4dec961b34'), AIMessage(content='', additional_kwargs={'tool_calls': [{'id': 'call_XIENYUSnDvTGAJiil57JDImG', 'function': {'arguments': '{}', 'name': 'transfer_to_flight_assistant'}, 'type': 'function'}], 'refusal': None}, response_metadata={'token_usage': {'completion_tokens': 14, 'prompt_tokens': 100, 'total_tokens': 114, 'completion_tokens_details': {'accepted_prediction_tokens': 0, 'audio_tokens': 0, 'reasoning_tokens': 0, 'rejected_prediction_tokens': 0}, 'prompt_tokens_details': {'audio_tokens': 0, 'cached_tokens': 0}}, 'model_name': 'gpt-4o-2024-08-06', 'system_fingerprint': 'fp_07871e2ad8', 'id': 'chatcmpl-Bea6en581nqp4PPykoowA6LaLQaVb', 'service_tier': 'default', 'finish_reason': 'tool_calls', 'logprobs': None}, name='supervisor', id='run--1334074b-eed4-469b-b849-17df51d6faf2-0', tool_calls=[{'name': 'transfer_to_flight_assistant', 'args': {}, 'id': 'call_XIENYUSnDvTGAJiil57JDImG', 'type': 'tool_call'}], usage_metadata={'input_tokens': 100, 'output_tokens': 14, 'total_tokens': 114, 'input_token_details': {'audio': 0, 'cache_read': 0}, 'output_token_details': {'audio': 0, 'reasoning': 0}}), ToolMessage(content='Successfully transferred to flight_assistant', name='transfer_to_flight_assistant', id='104b9f4c-f0f1-4f1e-8063-20cc067dbb67', tool_call_id='call_XIENYUSnDvTGAJiil57JDImG'), AIMessage(content=\"I've successfully booked your flight from Boston Logan International Airport (BOS) to John F. Kennedy International Airport (JFK). \\n\\nHowever, I'm unable to book accommodations such as a stay at the McKittrick Hotel. You may want to contact the hotel directly or use a hotel booking platform for your reservation. Let me know if there's anything else I can assist you with!\", additional_kwargs={'refusal': None}, response_metadata={'token_usage': {'completion_tokens': 77, 'prompt_tokens': 155, 'total_tokens': 232, 'completion_tokens_details': {'accepted_prediction_tokens': 0, 'audio_tokens': 0, 'reasoning_tokens': 0, 'rejected_prediction_tokens': 0}, 'prompt_tokens_details': {'audio_tokens': 0, 'cached_tokens': 0}}, 'model_name': 'gpt-4o-2024-08-06', 'system_fingerprint': 'fp_07871e2ad8', 'id': 'chatcmpl-Bea6g8EKk5XHqga7R9iLc6D3f3s4o', 'service_tier': 'default', 'finish_reason': 'stop', 'logprobs': None}, name='flight_assistant', id='run--f95c95d2-01ce-40d4-b636-1a598336a76a-0', usage_metadata={'input_tokens': 155, 'output_tokens': 77, 'total_tokens': 232, 'input_token_details': {'audio': 0, 'cache_read': 0}, 'output_token_details': {'audio': 0, 'reasoning': 0}}), AIMessage(content='Transferring back to supervisor', additional_kwargs={}, response_metadata={'__is_handoff_back': True}, name='flight_assistant', id='6a29fe2c-9f7d-4510-875c-b13d72996e5d', tool_calls=[{'name': 'transfer_back_to_supervisor', 'args': {}, 'id': '726b56c6-29a0-4b1f-8889-b5576f0b3b04', 'type': 'tool_call'}]), ToolMessage(content='Successfully transferred back to supervisor', name='transfer_back_to_supervisor', id='8faa9f58-61b5-41ff-9e49-028920d2a747', tool_call_id='726b56c6-29a0-4b1f-8889-b5576f0b3b04'), AIMessage(content='', additional_kwargs={'tool_calls': [{'id': 'call_X0RGqCWpC3Rz1IJiqLiDgfG0', 'function': {'arguments': '{}', 'name': 'transfer_to_hotel_assistant'}, 'type': 'function'}], 'refusal': None}, response_metadata={'token_usage': {'completion_tokens': 14, 'prompt_tokens': 266, 'total_tokens': 280, 'completion_tokens_details': {'accepted_prediction_tokens': 0, 'audio_tokens': 0, 'reasoning_tokens': 0, 'rejected_prediction_tokens': 0}, 'prompt_tokens_details': {'audio_tokens': 0, 'cached_tokens': 0}}, 'model_name': 'gpt-4o-2024-08-06', 'system_fingerprint': 'fp_a288987b44', 'id': 'chatcmpl-Bea6imPd8Vp33gHNluRnFFpP1ZMpu', 'service_tier': 'default', 'finish_reason': 'tool_calls', 'logprobs': None}, name='supervisor', id='run--14426029-326f-4c86-826a-ddaff60b7cfb-0', tool_calls=[{'name': 'transfer_to_hotel_assistant', 'args': {}, 'id': 'call_X0RGqCWpC3Rz1IJiqLiDgfG0', 'type': 'tool_call'}], usage_metadata={'input_tokens': 266, 'output_tokens': 14, 'total_tokens': 280, 'input_token_details': {'audio': 0, 'cache_read': 0}, 'output_token_details': {'audio': 0, 'reasoning': 0}}), ToolMessage(content='Successfully transferred to hotel_assistant', name='transfer_to_hotel_assistant', id='e099eef3-e10e-4b34-89a2-94f7bb278378', tool_call_id='call_X0RGqCWpC3Rz1IJiqLiDgfG0'), AIMessage(content='Your stay at the McKittrick Hotel has been successfully booked! If you need any further assistance, feel free to ask.', additional_kwargs={'refusal': None}, response_metadata={'token_usage': {'completion_tokens': 27, 'prompt_tokens': 311, 'total_tokens': 338, 'completion_tokens_details': {'accepted_prediction_tokens': 0, 'audio_tokens': 0, 'reasoning_tokens': 0, 'rejected_prediction_tokens': 0}, 'prompt_tokens_details': {'audio_tokens': 0, 'cached_tokens': 0}}, 'model_name': 'gpt-4o-2024-08-06', 'system_fingerprint': 'fp_a288987b44', 'id': 'chatcmpl-Bea6jC6ejWQip4jlTZ5FR0hHCFe4R', 'service_tier': 'default', 'finish_reason': 'stop', 'logprobs': None}, name='hotel_assistant', id='run--8e5a7070-b40d-4dec-943b-4d0d5994c7b3-0', usage_metadata={'input_tokens': 311, 'output_tokens': 27, 'total_tokens': 338, 'input_token_details': {'audio': 0, 'cache_read': 0}, 'output_token_details': {'audio': 0, 'reasoning': 0}}), AIMessage(content='Transferring back to supervisor', additional_kwargs={}, response_metadata={'__is_handoff_back': True}, name='hotel_assistant', id='33eb8cce-d998-4b05-b748-a0693bc0fb6b', tool_calls=[{'name': 'transfer_back_to_supervisor', 'args': {}, 'id': '4b15072b-4767-4e61-b4d9-e181cffbe182', 'type': 'tool_call'}]), ToolMessage(content='Successfully transferred back to supervisor', name='transfer_back_to_supervisor', id='df08a01e-a720-49ea-bbd6-bed697b486f5', tool_call_id='4b15072b-4767-4e61-b4d9-e181cffbe182'), AIMessage(content='Both your flight from Boston Logan International Airport (BOS) to John F. Kennedy International Airport (JFK) and your stay at the McKittrick Hotel have been successfully booked. If you have any more requests or need further assistance, feel free to let me know!', additional_kwargs={'refusal': None}, response_metadata={'token_usage': {'completion_tokens': 57, 'prompt_tokens': 382, 'total_tokens': 439, 'completion_tokens_details': {'accepted_prediction_tokens': 0, 'audio_tokens': 0, 'reasoning_tokens': 0, 'rejected_prediction_tokens': 0}, 'prompt_tokens_details': {'audio_tokens': 0, 'cached_tokens': 0}}, 'model_name': 'gpt-4o-2024-08-06', 'system_fingerprint': 'fp_a288987b44', 'id': 'chatcmpl-Bea6kESuUXpZ32L1076kkX7sMeeLc', 'service_tier': 'default', 'finish_reason': 'stop', 'logprobs': None}, name='supervisor', id='run--f165c87c-d51f-47c9-8995-13bcd510fdd9-0', usage_metadata={'input_tokens': 382, 'output_tokens': 57, 'total_tokens': 439, 'input_token_details': {'audio': 0, 'cache_read': 0}, 'output_token_details': {'audio': 0, 'reasoning': 0}})]}}\n",
      "\n",
      "\n"
     ]
    }
   ],
   "source": [
    "from langchain_openai import ChatOpenAI\n",
    "from langgraph.prebuilt import create_react_agent\n",
    "from langgraph_supervisor import create_supervisor\n",
    "\n",
    "def book_hotel(hotel_name: str):\n",
    "    \"\"\"Book a hotel\"\"\"\n",
    "    return f\"Successfully booked a stay at {hotel_name}.\"\n",
    "\n",
    "def book_flight(from_airport: str, to_airport: str):\n",
    "    \"\"\"Book a flight\"\"\"\n",
    "    return f\"Successfully booked a flight from {from_airport} to {to_airport}.\"\n",
    "\n",
    "flight_assistant = create_react_agent(\n",
    "    model=\"openai:gpt-4o\",\n",
    "    tools=[book_flight],\n",
    "    prompt=\"You are a flight booking assistant\",\n",
    "    name=\"flight_assistant\"\n",
    ")\n",
    "\n",
    "hotel_assistant = create_react_agent(\n",
    "    model=\"openai:gpt-4o\",\n",
    "    tools=[book_hotel],\n",
    "    prompt=\"You are a hotel booking assistant\",\n",
    "    name=\"hotel_assistant\"\n",
    ")\n",
    "\n",
    "supervisor = create_supervisor(\n",
    "    agents=[flight_assistant, hotel_assistant],\n",
    "    model=ChatOpenAI(model=\"gpt-4o\"),\n",
    "    prompt=(\n",
    "        \"You manage a hotel booking assistant and a\"\n",
    "        \"flight booking assistant. Assign work to them.\"\n",
    "    )\n",
    ").compile()\n",
    "\n",
    "for chunk in supervisor.stream(\n",
    "    {\n",
    "        \"messages\": [\n",
    "            {\n",
    "                \"role\": \"user\",\n",
    "                \"content\": \"book a flight from BOS to JFK and a stay at McKittrick Hotel\"\n",
    "            }\n",
    "        ]\n",
    "    }\n",
    "):\n",
    "    print(chunk)\n",
    "    print(\"\\n\")"
   ]
  }
 ],
 "metadata": {
  "kernelspec": {
   "display_name": "base",
   "language": "python",
   "name": "python3"
  },
  "language_info": {
   "codemirror_mode": {
    "name": "ipython",
    "version": 3
   },
   "file_extension": ".py",
   "mimetype": "text/x-python",
   "name": "python",
   "nbconvert_exporter": "python",
   "pygments_lexer": "ipython3",
   "version": "3.12.7"
  }
 },
 "nbformat": 4,
 "nbformat_minor": 5
}
